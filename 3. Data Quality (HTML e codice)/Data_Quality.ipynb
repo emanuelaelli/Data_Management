{
 "cells": [
  {
   "cell_type": "markdown",
   "id": "a0c0d8ec",
   "metadata": {},
   "source": [
    "# Data Quality"
   ]
  },
  {
   "cell_type": "markdown",
   "id": "b032988c",
   "metadata": {},
   "source": [
    "Questo codice è stato implementato su jupyter in locale, quindi potrebbe non funzionare su Google colab. "
   ]
  },
  {
   "cell_type": "code",
   "execution_count": 1,
   "id": "382b1ce6",
   "metadata": {},
   "outputs": [
    {
     "name": "stdout",
     "output_type": "stream",
     "text": [
      "Requirement already satisfied: pandas_profiling in c:\\users\\madon\\anaconda3\\lib\\site-packages (3.1.0)\n",
      "Requirement already satisfied: visions[type_image_path]==0.7.4 in c:\\users\\madon\\anaconda3\\lib\\site-packages (from pandas_profiling) (0.7.4)\n",
      "Requirement already satisfied: htmlmin>=0.1.12 in c:\\users\\madon\\anaconda3\\lib\\site-packages (from pandas_profiling) (0.1.12)\n",
      "Requirement already satisfied: joblib~=1.0.1 in c:\\users\\madon\\anaconda3\\lib\\site-packages (from pandas_profiling) (1.0.1)\n",
      "Requirement already satisfied: missingno>=0.4.2 in c:\\users\\madon\\anaconda3\\lib\\site-packages (from pandas_profiling) (0.5.0)\n",
      "Requirement already satisfied: requests>=2.24.0 in c:\\users\\madon\\anaconda3\\lib\\site-packages (from pandas_profiling) (2.25.1)\n",
      "Requirement already satisfied: multimethod>=1.4 in c:\\users\\madon\\anaconda3\\lib\\site-packages (from pandas_profiling) (1.7)\n",
      "Requirement already satisfied: tangled-up-in-unicode==0.1.0 in c:\\users\\madon\\anaconda3\\lib\\site-packages (from pandas_profiling) (0.1.0)\n",
      "Requirement already satisfied: seaborn>=0.10.1 in c:\\users\\madon\\anaconda3\\lib\\site-packages (from pandas_profiling) (0.11.1)\n",
      "Requirement already satisfied: matplotlib>=3.2.0 in c:\\users\\madon\\anaconda3\\lib\\site-packages (from pandas_profiling) (3.3.4)\n",
      "Requirement already satisfied: scipy>=1.4.1 in c:\\users\\madon\\anaconda3\\lib\\site-packages (from pandas_profiling) (1.6.2)\n",
      "Requirement already satisfied: markupsafe~=2.0.1 in c:\\users\\madon\\anaconda3\\lib\\site-packages (from pandas_profiling) (2.0.1)\n",
      "Requirement already satisfied: pandas!=1.0.0,!=1.0.1,!=1.0.2,!=1.1.0,>=0.25.3 in c:\\users\\madon\\anaconda3\\lib\\site-packages (from pandas_profiling) (1.2.4)\n",
      "Requirement already satisfied: numpy>=1.16.0 in c:\\users\\madon\\anaconda3\\lib\\site-packages (from pandas_profiling) (1.20.1)\n",
      "Requirement already satisfied: pydantic>=1.8.1 in c:\\users\\madon\\anaconda3\\lib\\site-packages (from pandas_profiling) (1.9.0)\n",
      "Requirement already satisfied: phik>=0.11.1 in c:\\users\\madon\\anaconda3\\lib\\site-packages (from pandas_profiling) (0.12.0)\n",
      "Requirement already satisfied: jinja2>=2.11.1 in c:\\users\\madon\\anaconda3\\lib\\site-packages (from pandas_profiling) (2.11.3)\n",
      "Requirement already satisfied: PyYAML>=5.0.0 in c:\\users\\madon\\anaconda3\\lib\\site-packages (from pandas_profiling) (5.4.1)\n",
      "Requirement already satisfied: tqdm>=4.48.2 in c:\\users\\madon\\anaconda3\\lib\\site-packages (from pandas_profiling) (4.59.0)\n",
      "Requirement already satisfied: networkx>=2.4 in c:\\users\\madon\\anaconda3\\lib\\site-packages (from visions[type_image_path]==0.7.4->pandas_profiling) (2.5)\n",
      "Requirement already satisfied: attrs>=19.3.0 in c:\\users\\madon\\anaconda3\\lib\\site-packages (from visions[type_image_path]==0.7.4->pandas_profiling) (20.3.0)\n",
      "Requirement already satisfied: imagehash in c:\\users\\madon\\anaconda3\\lib\\site-packages (from visions[type_image_path]==0.7.4->pandas_profiling) (4.2.1)\n",
      "Requirement already satisfied: Pillow in c:\\users\\madon\\anaconda3\\lib\\site-packages (from visions[type_image_path]==0.7.4->pandas_profiling) (8.2.0)\n",
      "Requirement already satisfied: python-dateutil>=2.1 in c:\\users\\madon\\anaconda3\\lib\\site-packages (from matplotlib>=3.2.0->pandas_profiling) (2.8.1)\n",
      "Requirement already satisfied: kiwisolver>=1.0.1 in c:\\users\\madon\\anaconda3\\lib\\site-packages (from matplotlib>=3.2.0->pandas_profiling) (1.3.1)\n",
      "Requirement already satisfied: cycler>=0.10 in c:\\users\\madon\\anaconda3\\lib\\site-packages (from matplotlib>=3.2.0->pandas_profiling) (0.10.0)\n",
      "Requirement already satisfied: pyparsing!=2.0.4,!=2.1.2,!=2.1.6,>=2.0.3 in c:\\users\\madon\\anaconda3\\lib\\site-packages (from matplotlib>=3.2.0->pandas_profiling) (2.4.7)\n",
      "Requirement already satisfied: six in c:\\users\\madon\\anaconda3\\lib\\site-packages (from cycler>=0.10->matplotlib>=3.2.0->pandas_profiling) (1.15.0)\n",
      "Requirement already satisfied: decorator>=4.3.0 in c:\\users\\madon\\anaconda3\\lib\\site-packages (from networkx>=2.4->visions[type_image_path]==0.7.4->pandas_profiling) (5.0.6)\n",
      "Requirement already satisfied: pytz>=2017.3 in c:\\users\\madon\\anaconda3\\lib\\site-packages (from pandas!=1.0.0,!=1.0.1,!=1.0.2,!=1.1.0,>=0.25.3->pandas_profiling) (2021.1)\n",
      "Requirement already satisfied: typing-extensions>=3.7.4.3 in c:\\users\\madon\\anaconda3\\lib\\site-packages (from pydantic>=1.8.1->pandas_profiling) (3.7.4.3)\n",
      "Requirement already satisfied: certifi>=2017.4.17 in c:\\users\\madon\\anaconda3\\lib\\site-packages (from requests>=2.24.0->pandas_profiling) (2020.12.5)\n",
      "Requirement already satisfied: urllib3<1.27,>=1.21.1 in c:\\users\\madon\\anaconda3\\lib\\site-packages (from requests>=2.24.0->pandas_profiling) (1.26.4)\n",
      "Requirement already satisfied: idna<3,>=2.5 in c:\\users\\madon\\anaconda3\\lib\\site-packages (from requests>=2.24.0->pandas_profiling) (2.10)\n",
      "Requirement already satisfied: chardet<5,>=3.0.2 in c:\\users\\madon\\anaconda3\\lib\\site-packages (from requests>=2.24.0->pandas_profiling) (4.0.0)\n",
      "Requirement already satisfied: PyWavelets in c:\\users\\madon\\anaconda3\\lib\\site-packages (from imagehash->visions[type_image_path]==0.7.4->pandas_profiling) (1.1.1)\n",
      "Note: you may need to restart the kernel to use updated packages.\n"
     ]
    }
   ],
   "source": [
    "#Installazione\n",
    "pip install pandas_profiling"
   ]
  },
  {
   "cell_type": "code",
   "execution_count": 2,
   "id": "2c993b7d",
   "metadata": {},
   "outputs": [],
   "source": [
    "#Importo i pacchetti utili\n",
    "import pandas_profiling\n",
    "import pandas as pd"
   ]
  },
  {
   "cell_type": "markdown",
   "id": "01280eba",
   "metadata": {},
   "source": [
    "# Dataset Integrato"
   ]
  },
  {
   "cell_type": "code",
   "execution_count": 3,
   "id": "4566e65c",
   "metadata": {},
   "outputs": [],
   "source": [
    "df_integrato = pd.read_json(\"Integrated.json\")\n",
    "report = pandas_profiling.ProfileReport(df_integrato, minimal=True)"
   ]
  },
  {
   "cell_type": "code",
   "execution_count": 4,
   "id": "29ed62e6",
   "metadata": {
    "scrolled": false
   },
   "outputs": [
    {
     "data": {
      "application/vnd.jupyter.widget-view+json": {
       "model_id": "49dec2b43b3b4daf96e41a006a6a1db5",
       "version_major": 2,
       "version_minor": 0
      },
      "text/plain": [
       "Summarize dataset:   0%|          | 0/5 [00:00<?, ?it/s]"
      ]
     },
     "metadata": {},
     "output_type": "display_data"
    },
    {
     "data": {
      "application/vnd.jupyter.widget-view+json": {
       "model_id": "707dfdaeeb294f3b8d397477061bffd4",
       "version_major": 2,
       "version_minor": 0
      },
      "text/plain": [
       "Generate report structure:   0%|          | 0/1 [00:00<?, ?it/s]"
      ]
     },
     "metadata": {},
     "output_type": "display_data"
    },
    {
     "data": {
      "application/vnd.jupyter.widget-view+json": {
       "model_id": "c988dd2d5f6647ebb1083366032a6ccd",
       "version_major": 2,
       "version_minor": 0
      },
      "text/plain": [
       "Render HTML:   0%|          | 0/1 [00:00<?, ?it/s]"
      ]
     },
     "metadata": {},
     "output_type": "display_data"
    },
    {
     "data": {
      "application/vnd.jupyter.widget-view+json": {
       "model_id": "03ef4cb02d0c47c6985c96d8801ba54c",
       "version_major": 2,
       "version_minor": 0
      },
      "text/plain": [
       "Export report to file:   0%|          | 0/1 [00:00<?, ?it/s]"
      ]
     },
     "metadata": {},
     "output_type": "display_data"
    }
   ],
   "source": [
    "report.to_file(\"report_integrato.html\")"
   ]
  },
  {
   "cell_type": "markdown",
   "id": "3090792e",
   "metadata": {},
   "source": [
    "La funzione di Pandas di Data Profiling è molto utile per esaminare il dataset, purtroppo perde la sua efficienza con dataset di elevate dimensioni, infatti non studia l'attributo dei generi, che ha come valori degli array di stringhe."
   ]
  }
 ],
 "metadata": {
  "kernelspec": {
   "display_name": "Python 3",
   "language": "python",
   "name": "python3"
  },
  "language_info": {
   "codemirror_mode": {
    "name": "ipython",
    "version": 3
   },
   "file_extension": ".py",
   "mimetype": "text/x-python",
   "name": "python",
   "nbconvert_exporter": "python",
   "pygments_lexer": "ipython3",
   "version": "3.8.8"
  }
 },
 "nbformat": 4,
 "nbformat_minor": 5
}
